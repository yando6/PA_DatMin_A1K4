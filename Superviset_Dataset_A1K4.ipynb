{
  "nbformat": 4,
  "nbformat_minor": 0,
  "metadata": {
    "colab": {
      "provenance": [],
      "include_colab_link": true
    },
    "kernelspec": {
      "name": "python3",
      "display_name": "Python 3"
    },
    "language_info": {
      "name": "python"
    }
  },
  "cells": [
    {
      "cell_type": "markdown",
      "metadata": {
        "id": "view-in-github",
        "colab_type": "text"
      },
      "source": [
        "<a href=\"https://colab.research.google.com/github/yando6/PA_DatMin_A1K4/blob/main/Superviset_Dataset_A1K4.ipynb\" target=\"_parent\"><img src=\"https://colab.research.google.com/assets/colab-badge.svg\" alt=\"Open In Colab\"/></a>"
      ]
    },
    {
      "cell_type": "markdown",
      "source": [
        "Kelompok 4 A1\n",
        "\n",
        "1. Muhammad Fathan Hari\n",
        "2. Rizky Maulana Al Fauzan\n",
        "3. Dhea Ayu Safitri"
      ],
      "metadata": {
        "id": "TVWwptYiLD_e"
      }
    },
    {
      "cell_type": "markdown",
      "source": [
        "# Judul: Student Performance Data Set\n",
        "\n",
        "link kaggle : https://www.kaggle.com/spscientist/students-performance-in-exams\n"
      ],
      "metadata": {
        "id": "-6TeulQCgCEP"
      }
    },
    {
      "cell_type": "markdown",
      "source": [
        "#**Business Understanding**"
      ],
      "metadata": {
        "id": "6E30Gds4e8sP"
      }
    },
    {
      "cell_type": "markdown",
      "source": [
        "Determine Business Objectives\n",
        "\n",
        "\n",
        "*   Meningkatkan rata-rata nilai.\n",
        "*   Memperbaiki faktor-faktor yang mempengaruhi kinerja siswa.\n",
        "*   Mengevaluasi program pendidikan.\n",
        "\n",
        "\n",
        "\n"
      ],
      "metadata": {
        "id": "-7Q5ix1cgdK7"
      }
    },
    {
      "cell_type": "markdown",
      "source": [
        "Assess Situation\n",
        "\n",
        "Dataset ini dapat digunakan untuk mengidentifikasi masalah yang mungkin dihadapi oleh siswa dan mencari solusi untuk meningkatkan efektivitas pengajaran dan keterlibatan orang tua.\n"
      ],
      "metadata": {
        "id": "88v_armWhb8p"
      }
    },
    {
      "cell_type": "markdown",
      "source": [
        "Determine Data Mining Goals\n",
        "\n",
        "Mengidentifikasi faktor-faktor yang mempengaruhi kinerja siswa. \n",
        "\n",
        "\n",
        "\n",
        "\n"
      ],
      "metadata": {
        "id": "pLPlrAMHhfn1"
      }
    },
    {
      "cell_type": "markdown",
      "source": [
        "Produce Project Plan\n",
        "\n",
        "\n",
        "\n",
        "\n",
        "*   Pemilihan teknik dan algoritma yang tepat\n",
        "*   Pemilihan parameter dan pengaturan model\n",
        "\n",
        "*   Perancangan uji coba dan validasi model.\n",
        "\n",
        "*   Evaluasi model.\n",
        "\n",
        "\n",
        "\n",
        "\n",
        "\n",
        "\n",
        "\n",
        "\n",
        "\n"
      ],
      "metadata": {
        "id": "n_zQvDFyhmi5"
      }
    },
    {
      "cell_type": "markdown",
      "source": [
        "#**Data Understanding**"
      ],
      "metadata": {
        "id": "weQnKKVzYd3e"
      }
    },
    {
      "cell_type": "markdown",
      "source": [
        "## Collect Initial Data\n",
        "\n",
        "  Data yang digunakan dalam analisis ini berasal dari Kaggle dengan link https://www.kaggle.com/spscientist/students-performance-in-exams. Dataset ini berisi informasi tentang nilai siswa pada tiga tes yang berbeda: math, reading, dan writing. Dataset ini memiliki 1000 baris dan 8 kolom.\n"
      ],
      "metadata": {
        "id": "LClb3ZTTYZ0-"
      }
    },
    {
      "cell_type": "code",
      "source": [
        "import pandas as pd\n",
        "\n",
        "df = pd.read_csv('StudentsPerformance.csv')\n",
        "df.head()"
      ],
      "metadata": {
        "colab": {
          "base_uri": "https://localhost:8080/",
          "height": 206
        },
        "id": "TgDITPCPbLTW",
        "outputId": "70d6e7bd-2169-42cd-a2f2-4e926aed782f"
      },
      "execution_count": null,
      "outputs": [
        {
          "output_type": "execute_result",
          "data": {
            "text/plain": [
              "   gender race/ethnicity parental level of education         lunch  \\\n",
              "0  female        group B           bachelor's degree      standard   \n",
              "1  female        group C                some college      standard   \n",
              "2  female        group B             master's degree      standard   \n",
              "3    male        group A          associate's degree  free/reduced   \n",
              "4    male        group C                some college      standard   \n",
              "\n",
              "  test preparation course  math score  reading score  writing score  \n",
              "0                    none          72             72             74  \n",
              "1               completed          69             90             88  \n",
              "2                    none          90             95             93  \n",
              "3                    none          47             57             44  \n",
              "4                    none          76             78             75  "
            ],
            "text/html": [
              "\n",
              "  <div id=\"df-c2ef489e-dbe7-4ee6-ae1c-43579134c827\">\n",
              "    <div class=\"colab-df-container\">\n",
              "      <div>\n",
              "<style scoped>\n",
              "    .dataframe tbody tr th:only-of-type {\n",
              "        vertical-align: middle;\n",
              "    }\n",
              "\n",
              "    .dataframe tbody tr th {\n",
              "        vertical-align: top;\n",
              "    }\n",
              "\n",
              "    .dataframe thead th {\n",
              "        text-align: right;\n",
              "    }\n",
              "</style>\n",
              "<table border=\"1\" class=\"dataframe\">\n",
              "  <thead>\n",
              "    <tr style=\"text-align: right;\">\n",
              "      <th></th>\n",
              "      <th>gender</th>\n",
              "      <th>race/ethnicity</th>\n",
              "      <th>parental level of education</th>\n",
              "      <th>lunch</th>\n",
              "      <th>test preparation course</th>\n",
              "      <th>math score</th>\n",
              "      <th>reading score</th>\n",
              "      <th>writing score</th>\n",
              "    </tr>\n",
              "  </thead>\n",
              "  <tbody>\n",
              "    <tr>\n",
              "      <th>0</th>\n",
              "      <td>female</td>\n",
              "      <td>group B</td>\n",
              "      <td>bachelor's degree</td>\n",
              "      <td>standard</td>\n",
              "      <td>none</td>\n",
              "      <td>72</td>\n",
              "      <td>72</td>\n",
              "      <td>74</td>\n",
              "    </tr>\n",
              "    <tr>\n",
              "      <th>1</th>\n",
              "      <td>female</td>\n",
              "      <td>group C</td>\n",
              "      <td>some college</td>\n",
              "      <td>standard</td>\n",
              "      <td>completed</td>\n",
              "      <td>69</td>\n",
              "      <td>90</td>\n",
              "      <td>88</td>\n",
              "    </tr>\n",
              "    <tr>\n",
              "      <th>2</th>\n",
              "      <td>female</td>\n",
              "      <td>group B</td>\n",
              "      <td>master's degree</td>\n",
              "      <td>standard</td>\n",
              "      <td>none</td>\n",
              "      <td>90</td>\n",
              "      <td>95</td>\n",
              "      <td>93</td>\n",
              "    </tr>\n",
              "    <tr>\n",
              "      <th>3</th>\n",
              "      <td>male</td>\n",
              "      <td>group A</td>\n",
              "      <td>associate's degree</td>\n",
              "      <td>free/reduced</td>\n",
              "      <td>none</td>\n",
              "      <td>47</td>\n",
              "      <td>57</td>\n",
              "      <td>44</td>\n",
              "    </tr>\n",
              "    <tr>\n",
              "      <th>4</th>\n",
              "      <td>male</td>\n",
              "      <td>group C</td>\n",
              "      <td>some college</td>\n",
              "      <td>standard</td>\n",
              "      <td>none</td>\n",
              "      <td>76</td>\n",
              "      <td>78</td>\n",
              "      <td>75</td>\n",
              "    </tr>\n",
              "  </tbody>\n",
              "</table>\n",
              "</div>\n",
              "      <button class=\"colab-df-convert\" onclick=\"convertToInteractive('df-c2ef489e-dbe7-4ee6-ae1c-43579134c827')\"\n",
              "              title=\"Convert this dataframe to an interactive table.\"\n",
              "              style=\"display:none;\">\n",
              "        \n",
              "  <svg xmlns=\"http://www.w3.org/2000/svg\" height=\"24px\"viewBox=\"0 0 24 24\"\n",
              "       width=\"24px\">\n",
              "    <path d=\"M0 0h24v24H0V0z\" fill=\"none\"/>\n",
              "    <path d=\"M18.56 5.44l.94 2.06.94-2.06 2.06-.94-2.06-.94-.94-2.06-.94 2.06-2.06.94zm-11 1L8.5 8.5l.94-2.06 2.06-.94-2.06-.94L8.5 2.5l-.94 2.06-2.06.94zm10 10l.94 2.06.94-2.06 2.06-.94-2.06-.94-.94-2.06-.94 2.06-2.06.94z\"/><path d=\"M17.41 7.96l-1.37-1.37c-.4-.4-.92-.59-1.43-.59-.52 0-1.04.2-1.43.59L10.3 9.45l-7.72 7.72c-.78.78-.78 2.05 0 2.83L4 21.41c.39.39.9.59 1.41.59.51 0 1.02-.2 1.41-.59l7.78-7.78 2.81-2.81c.8-.78.8-2.07 0-2.86zM5.41 20L4 18.59l7.72-7.72 1.47 1.35L5.41 20z\"/>\n",
              "  </svg>\n",
              "      </button>\n",
              "      \n",
              "  <style>\n",
              "    .colab-df-container {\n",
              "      display:flex;\n",
              "      flex-wrap:wrap;\n",
              "      gap: 12px;\n",
              "    }\n",
              "\n",
              "    .colab-df-convert {\n",
              "      background-color: #E8F0FE;\n",
              "      border: none;\n",
              "      border-radius: 50%;\n",
              "      cursor: pointer;\n",
              "      display: none;\n",
              "      fill: #1967D2;\n",
              "      height: 32px;\n",
              "      padding: 0 0 0 0;\n",
              "      width: 32px;\n",
              "    }\n",
              "\n",
              "    .colab-df-convert:hover {\n",
              "      background-color: #E2EBFA;\n",
              "      box-shadow: 0px 1px 2px rgba(60, 64, 67, 0.3), 0px 1px 3px 1px rgba(60, 64, 67, 0.15);\n",
              "      fill: #174EA6;\n",
              "    }\n",
              "\n",
              "    [theme=dark] .colab-df-convert {\n",
              "      background-color: #3B4455;\n",
              "      fill: #D2E3FC;\n",
              "    }\n",
              "\n",
              "    [theme=dark] .colab-df-convert:hover {\n",
              "      background-color: #434B5C;\n",
              "      box-shadow: 0px 1px 3px 1px rgba(0, 0, 0, 0.15);\n",
              "      filter: drop-shadow(0px 1px 2px rgba(0, 0, 0, 0.3));\n",
              "      fill: #FFFFFF;\n",
              "    }\n",
              "  </style>\n",
              "\n",
              "      <script>\n",
              "        const buttonEl =\n",
              "          document.querySelector('#df-c2ef489e-dbe7-4ee6-ae1c-43579134c827 button.colab-df-convert');\n",
              "        buttonEl.style.display =\n",
              "          google.colab.kernel.accessAllowed ? 'block' : 'none';\n",
              "\n",
              "        async function convertToInteractive(key) {\n",
              "          const element = document.querySelector('#df-c2ef489e-dbe7-4ee6-ae1c-43579134c827');\n",
              "          const dataTable =\n",
              "            await google.colab.kernel.invokeFunction('convertToInteractive',\n",
              "                                                     [key], {});\n",
              "          if (!dataTable) return;\n",
              "\n",
              "          const docLinkHtml = 'Like what you see? Visit the ' +\n",
              "            '<a target=\"_blank\" href=https://colab.research.google.com/notebooks/data_table.ipynb>data table notebook</a>'\n",
              "            + ' to learn more about interactive tables.';\n",
              "          element.innerHTML = '';\n",
              "          dataTable['output_type'] = 'display_data';\n",
              "          await google.colab.output.renderOutput(dataTable, element);\n",
              "          const docLink = document.createElement('div');\n",
              "          docLink.innerHTML = docLinkHtml;\n",
              "          element.appendChild(docLink);\n",
              "        }\n",
              "      </script>\n",
              "    </div>\n",
              "  </div>\n",
              "  "
            ]
          },
          "metadata": {},
          "execution_count": 60
        }
      ]
    },
    {
      "cell_type": "markdown",
      "source": [
        "Pada tahap ini menggunakan Pandas untuk membaca data dari file csv dengan memanggil fungsi read_csv(). Kemudian, menggunakan fungsi head() untuk menampilkan lima baris pertama dari dataset. Hal ini berguna untuk memastikan bahwa data terimpor dengan benar dan memiliki format yang sesuai."
      ],
      "metadata": {
        "id": "KMT_ACHQgf5x"
      }
    },
    {
      "cell_type": "markdown",
      "source": [
        "## Describe Data\n",
        "\n",
        "  Berikut adalah deskripsi singkat dari setiap kolom dalam dataset ini:\n",
        "\n",
        "  * gender: jenis kelamin siswa (laki-laki atau perempuan)\n",
        "  * race/ethnicity: kelompok ras/etnis siswa (A, B, C, D, atau E)\n",
        "  * parental level of education: tingkat pendidikan orang tua siswa (terendah hingga tertinggi)\n",
        "  * lunch: jenis makanan siang siswa (berbayar atau gratis/reduksi harga)\n",
        "  * test preparation course: apakah siswa mengikuti kursus persiapan tes (ya atau tidak)\n",
        "  * math score: nilai matematika siswa (0 hingga 100)\n",
        "  * reading score: nilai membaca siswa (0 hingga 100)\n",
        "  * writing score: nilai menulis siswa (0 hingga 100)"
      ],
      "metadata": {
        "id": "9_xm04VQa7CA"
      }
    },
    {
      "cell_type": "code",
      "source": [
        "df.info()"
      ],
      "metadata": {
        "colab": {
          "base_uri": "https://localhost:8080/"
        },
        "id": "z9iic5Idb6EZ",
        "outputId": "62ee986c-ba99-4039-9867-58df8e796ee2"
      },
      "execution_count": null,
      "outputs": [
        {
          "output_type": "stream",
          "name": "stdout",
          "text": [
            "<class 'pandas.core.frame.DataFrame'>\n",
            "RangeIndex: 1000 entries, 0 to 999\n",
            "Data columns (total 8 columns):\n",
            " #   Column                       Non-Null Count  Dtype \n",
            "---  ------                       --------------  ----- \n",
            " 0   gender                       1000 non-null   object\n",
            " 1   race/ethnicity               1000 non-null   object\n",
            " 2   parental level of education  1000 non-null   object\n",
            " 3   lunch                        1000 non-null   object\n",
            " 4   test preparation course      1000 non-null   object\n",
            " 5   math score                   1000 non-null   int64 \n",
            " 6   reading score                1000 non-null   int64 \n",
            " 7   writing score                1000 non-null   int64 \n",
            "dtypes: int64(3), object(5)\n",
            "memory usage: 62.6+ KB\n"
          ]
        }
      ]
    },
    {
      "cell_type": "markdown",
      "source": [
        "Pada tahap ini, menggunakan fungsi info() untuk menampilkan informasi tentang dataset, termasuk jumlah baris dan kolom, nama kolom, tipe data, dan apakah ada nilai null atau tidak."
      ],
      "metadata": {
        "id": "HvwjS59Og_df"
      }
    },
    {
      "cell_type": "code",
      "source": [
        "df.describe()"
      ],
      "metadata": {
        "colab": {
          "base_uri": "https://localhost:8080/",
          "height": 300
        },
        "id": "gRrCskx-ejqs",
        "outputId": "10c90eff-a096-49cf-b30c-089cc7c73d32"
      },
      "execution_count": null,
      "outputs": [
        {
          "output_type": "execute_result",
          "data": {
            "text/plain": [
              "       math score  reading score  writing score\n",
              "count  1000.00000    1000.000000    1000.000000\n",
              "mean     66.08900      69.169000      68.054000\n",
              "std      15.16308      14.600192      15.195657\n",
              "min       0.00000      17.000000      10.000000\n",
              "25%      57.00000      59.000000      57.750000\n",
              "50%      66.00000      70.000000      69.000000\n",
              "75%      77.00000      79.000000      79.000000\n",
              "max     100.00000     100.000000     100.000000"
            ],
            "text/html": [
              "\n",
              "  <div id=\"df-c646a50c-88c8-42b4-9084-d5c646969494\">\n",
              "    <div class=\"colab-df-container\">\n",
              "      <div>\n",
              "<style scoped>\n",
              "    .dataframe tbody tr th:only-of-type {\n",
              "        vertical-align: middle;\n",
              "    }\n",
              "\n",
              "    .dataframe tbody tr th {\n",
              "        vertical-align: top;\n",
              "    }\n",
              "\n",
              "    .dataframe thead th {\n",
              "        text-align: right;\n",
              "    }\n",
              "</style>\n",
              "<table border=\"1\" class=\"dataframe\">\n",
              "  <thead>\n",
              "    <tr style=\"text-align: right;\">\n",
              "      <th></th>\n",
              "      <th>math score</th>\n",
              "      <th>reading score</th>\n",
              "      <th>writing score</th>\n",
              "    </tr>\n",
              "  </thead>\n",
              "  <tbody>\n",
              "    <tr>\n",
              "      <th>count</th>\n",
              "      <td>1000.00000</td>\n",
              "      <td>1000.000000</td>\n",
              "      <td>1000.000000</td>\n",
              "    </tr>\n",
              "    <tr>\n",
              "      <th>mean</th>\n",
              "      <td>66.08900</td>\n",
              "      <td>69.169000</td>\n",
              "      <td>68.054000</td>\n",
              "    </tr>\n",
              "    <tr>\n",
              "      <th>std</th>\n",
              "      <td>15.16308</td>\n",
              "      <td>14.600192</td>\n",
              "      <td>15.195657</td>\n",
              "    </tr>\n",
              "    <tr>\n",
              "      <th>min</th>\n",
              "      <td>0.00000</td>\n",
              "      <td>17.000000</td>\n",
              "      <td>10.000000</td>\n",
              "    </tr>\n",
              "    <tr>\n",
              "      <th>25%</th>\n",
              "      <td>57.00000</td>\n",
              "      <td>59.000000</td>\n",
              "      <td>57.750000</td>\n",
              "    </tr>\n",
              "    <tr>\n",
              "      <th>50%</th>\n",
              "      <td>66.00000</td>\n",
              "      <td>70.000000</td>\n",
              "      <td>69.000000</td>\n",
              "    </tr>\n",
              "    <tr>\n",
              "      <th>75%</th>\n",
              "      <td>77.00000</td>\n",
              "      <td>79.000000</td>\n",
              "      <td>79.000000</td>\n",
              "    </tr>\n",
              "    <tr>\n",
              "      <th>max</th>\n",
              "      <td>100.00000</td>\n",
              "      <td>100.000000</td>\n",
              "      <td>100.000000</td>\n",
              "    </tr>\n",
              "  </tbody>\n",
              "</table>\n",
              "</div>\n",
              "      <button class=\"colab-df-convert\" onclick=\"convertToInteractive('df-c646a50c-88c8-42b4-9084-d5c646969494')\"\n",
              "              title=\"Convert this dataframe to an interactive table.\"\n",
              "              style=\"display:none;\">\n",
              "        \n",
              "  <svg xmlns=\"http://www.w3.org/2000/svg\" height=\"24px\"viewBox=\"0 0 24 24\"\n",
              "       width=\"24px\">\n",
              "    <path d=\"M0 0h24v24H0V0z\" fill=\"none\"/>\n",
              "    <path d=\"M18.56 5.44l.94 2.06.94-2.06 2.06-.94-2.06-.94-.94-2.06-.94 2.06-2.06.94zm-11 1L8.5 8.5l.94-2.06 2.06-.94-2.06-.94L8.5 2.5l-.94 2.06-2.06.94zm10 10l.94 2.06.94-2.06 2.06-.94-2.06-.94-.94-2.06-.94 2.06-2.06.94z\"/><path d=\"M17.41 7.96l-1.37-1.37c-.4-.4-.92-.59-1.43-.59-.52 0-1.04.2-1.43.59L10.3 9.45l-7.72 7.72c-.78.78-.78 2.05 0 2.83L4 21.41c.39.39.9.59 1.41.59.51 0 1.02-.2 1.41-.59l7.78-7.78 2.81-2.81c.8-.78.8-2.07 0-2.86zM5.41 20L4 18.59l7.72-7.72 1.47 1.35L5.41 20z\"/>\n",
              "  </svg>\n",
              "      </button>\n",
              "      \n",
              "  <style>\n",
              "    .colab-df-container {\n",
              "      display:flex;\n",
              "      flex-wrap:wrap;\n",
              "      gap: 12px;\n",
              "    }\n",
              "\n",
              "    .colab-df-convert {\n",
              "      background-color: #E8F0FE;\n",
              "      border: none;\n",
              "      border-radius: 50%;\n",
              "      cursor: pointer;\n",
              "      display: none;\n",
              "      fill: #1967D2;\n",
              "      height: 32px;\n",
              "      padding: 0 0 0 0;\n",
              "      width: 32px;\n",
              "    }\n",
              "\n",
              "    .colab-df-convert:hover {\n",
              "      background-color: #E2EBFA;\n",
              "      box-shadow: 0px 1px 2px rgba(60, 64, 67, 0.3), 0px 1px 3px 1px rgba(60, 64, 67, 0.15);\n",
              "      fill: #174EA6;\n",
              "    }\n",
              "\n",
              "    [theme=dark] .colab-df-convert {\n",
              "      background-color: #3B4455;\n",
              "      fill: #D2E3FC;\n",
              "    }\n",
              "\n",
              "    [theme=dark] .colab-df-convert:hover {\n",
              "      background-color: #434B5C;\n",
              "      box-shadow: 0px 1px 3px 1px rgba(0, 0, 0, 0.15);\n",
              "      filter: drop-shadow(0px 1px 2px rgba(0, 0, 0, 0.3));\n",
              "      fill: #FFFFFF;\n",
              "    }\n",
              "  </style>\n",
              "\n",
              "      <script>\n",
              "        const buttonEl =\n",
              "          document.querySelector('#df-c646a50c-88c8-42b4-9084-d5c646969494 button.colab-df-convert');\n",
              "        buttonEl.style.display =\n",
              "          google.colab.kernel.accessAllowed ? 'block' : 'none';\n",
              "\n",
              "        async function convertToInteractive(key) {\n",
              "          const element = document.querySelector('#df-c646a50c-88c8-42b4-9084-d5c646969494');\n",
              "          const dataTable =\n",
              "            await google.colab.kernel.invokeFunction('convertToInteractive',\n",
              "                                                     [key], {});\n",
              "          if (!dataTable) return;\n",
              "\n",
              "          const docLinkHtml = 'Like what you see? Visit the ' +\n",
              "            '<a target=\"_blank\" href=https://colab.research.google.com/notebooks/data_table.ipynb>data table notebook</a>'\n",
              "            + ' to learn more about interactive tables.';\n",
              "          element.innerHTML = '';\n",
              "          dataTable['output_type'] = 'display_data';\n",
              "          await google.colab.output.renderOutput(dataTable, element);\n",
              "          const docLink = document.createElement('div');\n",
              "          docLink.innerHTML = docLinkHtml;\n",
              "          element.appendChild(docLink);\n",
              "        }\n",
              "      </script>\n",
              "    </div>\n",
              "  </div>\n",
              "  "
            ]
          },
          "metadata": {},
          "execution_count": 62
        }
      ]
    },
    {
      "cell_type": "markdown",
      "source": [
        "Kemudian, menggunakan fungsi describe() untuk menampilkan statistik deskriptif dari setiap kolom numerik, termasuk mean, median, dan standar deviasi. Hal ini berguna untuk memahami struktur dan karakteristik data."
      ],
      "metadata": {
        "id": "NBJdB90shEzN"
      }
    },
    {
      "cell_type": "markdown",
      "source": [
        "## Explore Data\n",
        "\n",
        "  Langkah selanjutnya adalah eksplorasi data untuk memahami struktur dan karakteristik data. \n",
        "  * Membuat visualisasi untuk masing-masing kolom dan memeriksa apakah ada outliers atau nilai-nilai yang tidak masuk akal.\n"
      ],
      "metadata": {
        "id": "6TIwxT5fbAue"
      }
    },
    {
      "cell_type": "code",
      "source": [
        "import seaborn as sns\n",
        "import matplotlib.pyplot as plt\n",
        "\n",
        "sns.histplot(data=df[['math score', 'reading score', 'writing score']])\n",
        "plt.show()"
      ],
      "metadata": {
        "colab": {
          "base_uri": "https://localhost:8080/",
          "height": 430
        },
        "id": "rDhW16tjdfJa",
        "outputId": "59721e14-1f5f-45fc-d3ef-ead5dad37b32"
      },
      "execution_count": null,
      "outputs": [
        {
          "output_type": "display_data",
          "data": {
            "text/plain": [
              "<Figure size 640x480 with 1 Axes>"
            ],
            "image/png": "[encoded data removed]"
          },
          "metadata": {}
        }
      ]
    },
    {
      "cell_type": "markdown",
      "source": [
        "Pada tahap ini, menggunakan library Seaborn dan Matplotlib untuk membuat visualisasi dari setiap kolom dalam dataset. Pertama, menggunakan fungsi histplot() untuk membuat histogram untuk setiap kolom numerik. Histogram berguna untuk memahami distribusi data."
      ],
      "metadata": {
        "id": "_mgXeKOqhYYF"
      }
    },
    {
      "cell_type": "code",
      "source": [
        "# membuat scatter plot dari kolom math_score dan reading_score\n",
        "plt.scatter(x=df['math score'], y=df['reading score'])\n",
        "plt.title('Scatter plot of math score and reading score')\n",
        "plt.xlabel('math score')\n",
        "plt.ylabel('reading score')\n",
        "plt.show()"
      ],
      "metadata": {
        "colab": {
          "base_uri": "https://localhost:8080/",
          "height": 472
        },
        "id": "OjVhqHI585VB",
        "outputId": "90c0d9a2-f020-4270-d049-85d46fd65e31"
      },
      "execution_count": null,
      "outputs": [
        {
          "output_type": "display_data",
          "data": {
            "text/plain": [
              "<Figure size 640x480 with 1 Axes>"
            ],
            "image/png": "[encoded data removed]"
          },
          "metadata": {}
        }
      ]
    },
    {
      "cell_type": "markdown",
      "source": [
        "Kode di atas membuat scatter plot dari kolom math score dan reading score pada dataset yang telah dibaca sebelumnya menggunakan library matplotlib.\n",
        "\n",
        "Selanjutnya, kode memberikan judul dan label pada sumbu x dan y. Sumbu x diberi label math score, sedangkan sumbu y diberi label reading score. Judul plot adalah 'Scatter plot of math score and reading score'.\n",
        "\n",
        "Terakhir, plot ditampilkan menggunakan perintah plt.show(). Hasilnya adalah plot scatter yang menunjukkan titik-titik pada koordinat yang merepresentasikan nilai-nilai dalam kolom math score dan reading score dari dataset."
      ],
      "metadata": {
        "id": "IaMWZA4dO8Su"
      }
    },
    {
      "cell_type": "code",
      "source": [
        "# menghitung rentang IQR pada kolom math score\n",
        "q1 = df['math score'].quantile(0.25)\n",
        "q3 = df['math score'].quantile(0.75)\n",
        "iqr = q3 - q1\n",
        "upper_bound = q3 + 1.5 * iqr\n",
        "lower_bound = q1 - 1.5 * iqr\n",
        "filter_math = (df['math score'] >= lower_bound) & (df['math score'] <= upper_bound)\n",
        "df_no_outliers_math = df[filter_math].reset_index(drop=True)\n",
        "print(\"Jumlah data sebelum penghapusan outlier pada kolom math score: \", len(df))\n",
        "print(\"Jumlah data setelah penghapusan outlier pada kolom math score: \", len(df_no_outliers_math))"
      ],
      "metadata": {
        "colab": {
          "base_uri": "https://localhost:8080/"
        },
        "id": "7F5fxWwyT5aU",
        "outputId": "844447c6-f9a1-494c-9d30-1c7fcf841697"
      },
      "execution_count": null,
      "outputs": [
        {
          "output_type": "stream",
          "name": "stdout",
          "text": [
            "Jumlah data sebelum penghapusan outlier pada kolom math score:  1000\n",
            "Jumlah data setelah penghapusan outlier pada kolom math score:  992\n"
          ]
        }
      ]
    },
    {
      "cell_type": "code",
      "source": [
        "# menghitung rentang IQR pada kolom reading score\n",
        "q1_reading = df['reading score'].quantile(0.25)\n",
        "q3_reading = df['reading score'].quantile(0.75)\n",
        "iqr_reading = q3_reading - q1_reading\n",
        "upper_bound_reading = q3_reading + 1.5 * iqr_reading\n",
        "lower_bound_reading = q1_reading - 1.5 * iqr_reading\n",
        "filter_reading = (df['reading score'] >= lower_bound_reading) & (df['reading score'] <= upper_bound_reading)\n",
        "df_no_outliers_reading = df[filter_reading].reset_index(drop=True)\n",
        "print(\"Jumlah data sebelum penghapusan outlier pada kolom reading score: \", len(df))\n",
        "print(\"Jumlah data setelah penghapusan outlier pada kolom reading score: \", len(df_no_outliers_reading))"
      ],
      "metadata": {
        "colab": {
          "base_uri": "https://localhost:8080/"
        },
        "id": "bkJfsbJFIooL",
        "outputId": "aacd283c-2725-42eb-dc52-25f2221e402f"
      },
      "execution_count": null,
      "outputs": [
        {
          "output_type": "stream",
          "name": "stdout",
          "text": [
            "Jumlah data sebelum penghapusan outlier pada kolom reading score:  1000\n",
            "Jumlah data setelah penghapusan outlier pada kolom reading score:  994\n"
          ]
        }
      ]
    },
    {
      "cell_type": "code",
      "source": [
        "# menghitung rentang IQR pada kolom writing score\n",
        "q1_writing = df['writing score'].quantile(0.25)\n",
        "q3_writing = df['writing score'].quantile(0.75)\n",
        "iqr_writing = q3_writing - q1_writing\n",
        "upper_bound_writing = q3_writing + 1.5 * iqr_writing\n",
        "lower_bound_writing = q1_writing - 1.5 * iqr_writing\n",
        "filter_writing = (df['writing score'] >= lower_bound_writing) & (df['writing score'] <= upper_bound_writing)\n",
        "df_no_outliers_writing = df[filter_writing].reset_index(drop=True)\n",
        "print(\"Jumlah data sebelum penghapusan outlier pada kolom writing score: \", len(df))\n",
        "print(\"Jumlah data setelah penghapusan outlier pada kolom writing score: \", len(df_no_outliers_writing))"
      ],
      "metadata": {
        "colab": {
          "base_uri": "https://localhost:8080/"
        },
        "id": "qLXlw8Z7Ir3V",
        "outputId": "dae78502-c713-42ea-cb5f-934d7faef229"
      },
      "execution_count": null,
      "outputs": [
        {
          "output_type": "stream",
          "name": "stdout",
          "text": [
            "Jumlah data sebelum penghapusan outlier pada kolom writing score:  1000\n",
            "Jumlah data setelah penghapusan outlier pada kolom writing score:  995\n"
          ]
        }
      ]
    },
    {
      "cell_type": "code",
      "source": [
        "# membuat boxplot untuk setiap kolom numerik\n",
        "sns.boxplot(data=df[['math score', 'reading score', 'writing score']])\n",
        "plt.show()"
      ],
      "metadata": {
        "colab": {
          "base_uri": "https://localhost:8080/",
          "height": 430
        },
        "id": "UBFsNfE3dmR7",
        "outputId": "dee6a8b3-5077-4794-eaf4-d00d18c92cc6"
      },
      "execution_count": null,
      "outputs": [
        {
          "output_type": "display_data",
          "data": {
            "text/plain": [
              "<Figure size 640x480 with 1 Axes>"
            ],
            "image/png": "[encoded data removed]"
          },
          "metadata": {}
        }
      ]
    },
    {
      "cell_type": "markdown",
      "source": [
        "Kemudian, menggunakan fungsi boxplot() untuk membuat boxplot untuk setiap kolom numerik. Boxplot berguna untuk menemukan outliers atau nilai-nilai yang tidak masuk akal."
      ],
      "metadata": {
        "id": "dhI-cWbQhixc"
      }
    },
    {
      "cell_type": "code",
      "source": [
        "# membuat countplot untuk setiap kolom kategorikal\n",
        "sns.countplot(data=df, x='gender')\n",
        "plt.show()"
      ],
      "metadata": {
        "colab": {
          "base_uri": "https://localhost:8080/",
          "height": 449
        },
        "id": "YFf-77ZUdwZ4",
        "outputId": "875cced3-212f-4f6a-d6cb-feb71ea42426"
      },
      "execution_count": null,
      "outputs": [
        {
          "output_type": "display_data",
          "data": {
            "text/plain": [
              "<Figure size 640x480 with 1 Axes>"
            ],
            "image/png": "[encoded data removed]"
          },
          "metadata": {}
        }
      ]
    },
    {
      "cell_type": "markdown",
      "source": [
        "Selanjutnya, menggunakan fungsi countplot() untuk membuat countplot untuk setiap kolom kategorikal. Countplot berguna untuk memahami frekuensi data pada setiap kategori."
      ],
      "metadata": {
        "id": "bmJe7nMchpbs"
      }
    },
    {
      "cell_type": "code",
      "source": [
        "sns.countplot(data=df, x='race/ethnicity')\n",
        "plt.show()"
      ],
      "metadata": {
        "colab": {
          "base_uri": "https://localhost:8080/",
          "height": 449
        },
        "id": "hmgECq9Ud02X",
        "outputId": "0d58e0f9-7235-4694-e035-a117dd3271ed"
      },
      "execution_count": null,
      "outputs": [
        {
          "output_type": "display_data",
          "data": {
            "text/plain": [
              "<Figure size 640x480 with 1 Axes>"
            ],
            "image/png": "[encoded data removed]"
          },
          "metadata": {}
        }
      ]
    },
    {
      "cell_type": "code",
      "source": [
        "sns.countplot(data=df, y='parental level of education')\n",
        "plt.show()"
      ],
      "metadata": {
        "colab": {
          "base_uri": "https://localhost:8080/",
          "height": 449
        },
        "id": "ZAVLAdQjd7an",
        "outputId": "be6f9de6-cb2e-4b40-c601-68edc29d3c37"
      },
      "execution_count": null,
      "outputs": [
        {
          "output_type": "display_data",
          "data": {
            "text/plain": [
              "<Figure size 640x480 with 1 Axes>"
            ],
            "image/png": "[encoded data removed]"
          },
          "metadata": {}
        }
      ]
    },
    {
      "cell_type": "code",
      "source": [
        "sns.countplot(data=df, x='lunch')\n",
        "plt.show()"
      ],
      "metadata": {
        "colab": {
          "base_uri": "https://localhost:8080/",
          "height": 449
        },
        "id": "jeP24moeeDNu",
        "outputId": "81971c09-41e2-4e14-d1d2-e15ee318e6ab"
      },
      "execution_count": null,
      "outputs": [
        {
          "output_type": "display_data",
          "data": {
            "text/plain": [
              "<Figure size 640x480 with 1 Axes>"
            ],
            "image/png": "[encoded data removed]"
          },
          "metadata": {}
        }
      ]
    },
    {
      "cell_type": "code",
      "source": [
        "sns.countplot(data=df, x='test preparation course')\n",
        "plt.show()"
      ],
      "metadata": {
        "colab": {
          "base_uri": "https://localhost:8080/",
          "height": 449
        },
        "id": "4Z4mxSjxeIFK",
        "outputId": "7361bf54-f84e-40c3-cfdd-dec42acaf972"
      },
      "execution_count": null,
      "outputs": [
        {
          "output_type": "display_data",
          "data": {
            "text/plain": [
              "<Figure size 640x480 with 1 Axes>"
            ],
            "image/png": "[encoded data removed]"
          },
          "metadata": {}
        }
      ]
    },
    {
      "cell_type": "markdown",
      "source": [
        "## Verify Data Quality\n",
        "\n",
        "  Langkah terakhir adalah memastikan kualitas data yang baik. Beberapa hal yang perlu diperiksa adalah:\n",
        "  * Memeriksa apakah ada data yang hilang dan memutuskan apakah data tersebut harus diisi atau dihapus."
      ],
      "metadata": {
        "id": "DSr3N47NbEBp"
      }
    },
    {
      "cell_type": "code",
      "source": [
        "# mengecek apakah ada data yang duplikat\n",
        "df.duplicated().sum()\n",
        "df.isnull().sum()\n",
        "df.info()"
      ],
      "metadata": {
        "colab": {
          "base_uri": "https://localhost:8080/"
        },
        "id": "zqBwgME8cCKq",
        "outputId": "3e43c193-8961-4ccc-d52d-c1be7b6ef8a7"
      },
      "execution_count": null,
      "outputs": [
        {
          "output_type": "stream",
          "name": "stdout",
          "text": [
            "<class 'pandas.core.frame.DataFrame'>\n",
            "RangeIndex: 1000 entries, 0 to 999\n",
            "Data columns (total 8 columns):\n",
            " #   Column                       Non-Null Count  Dtype \n",
            "---  ------                       --------------  ----- \n",
            " 0   gender                       1000 non-null   object\n",
            " 1   race/ethnicity               1000 non-null   object\n",
            " 2   parental level of education  1000 non-null   object\n",
            " 3   lunch                        1000 non-null   object\n",
            " 4   test preparation course      1000 non-null   object\n",
            " 5   math score                   1000 non-null   int64 \n",
            " 6   reading score                1000 non-null   int64 \n",
            " 7   writing score                1000 non-null   int64 \n",
            "dtypes: int64(3), object(5)\n",
            "memory usage: 62.6+ KB\n"
          ]
        }
      ]
    },
    {
      "cell_type": "markdown",
      "source": [
        "Pada tahap ini, menggunakan fungsi duplicated() untuk mengecek apakah ada data yang duplikat. Fungsi ini akan mengembalikan jumlah data yang duplikat. Kemudian, menggunakan fungsi isnull() untuk mengecek apakah ada data yang hilang. Fungsi ini akan mengembalikan jumlah data yang kosong untuk setiap kolom. Hal ini berguna untuk memastikan kualitas data yang baik sebelum melakukan analisis lebih lanjut."
      ],
      "metadata": {
        "id": "8lJcs0Tvh7I0"
      }
    },
    {
      "cell_type": "markdown",
      "source": [
        "#**Data Preparation**"
      ],
      "metadata": {
        "id": "XCG3EqY0J-_Y"
      }
    },
    {
      "cell_type": "markdown",
      "source": [
        "## Clean Data"
      ],
      "metadata": {
        "id": "mhsr5PeyQZhP"
      }
    },
    {
      "cell_type": "code",
      "source": [
        "# Clean data\n",
        "df_cleaned = df.dropna(subset=['math score'])\n",
        "df_cleaned.head()"
      ],
      "metadata": {
        "colab": {
          "base_uri": "https://localhost:8080/",
          "height": 206
        },
        "id": "sRUefJVgQeCn",
        "outputId": "9a84984a-cc36-4ea2-8c51-5caa91b28baf"
      },
      "execution_count": null,
      "outputs": [
        {
          "output_type": "execute_result",
          "data": {
            "text/plain": [
              "   gender race/ethnicity parental level of education         lunch  \\\n",
              "0  female        group B           bachelor's degree      standard   \n",
              "1  female        group C                some college      standard   \n",
              "2  female        group B             master's degree      standard   \n",
              "3    male        group A          associate's degree  free/reduced   \n",
              "4    male        group C                some college      standard   \n",
              "\n",
              "  test preparation course  math score  reading score  writing score  \n",
              "0                    none          72             72             74  \n",
              "1               completed          69             90             88  \n",
              "2                    none          90             95             93  \n",
              "3                    none          47             57             44  \n",
              "4                    none          76             78             75  "
            ],
            "text/html": [
              "\n",
              "  <div id=\"df-bd0b5091-64df-4dbc-980c-16ab81b50477\">\n",
              "    <div class=\"colab-df-container\">\n",
              "      <div>\n",
              "<style scoped>\n",
              "    .dataframe tbody tr th:only-of-type {\n",
              "        vertical-align: middle;\n",
              "    }\n",
              "\n",
              "    .dataframe tbody tr th {\n",
              "        vertical-align: top;\n",
              "    }\n",
              "\n",
              "    .dataframe thead th {\n",
              "        text-align: right;\n",
              "    }\n",
              "</style>\n",
              "<table border=\"1\" class=\"dataframe\">\n",
              "  <thead>\n",
              "    <tr style=\"text-align: right;\">\n",
              "      <th></th>\n",
              "      <th>gender</th>\n",
              "      <th>race/ethnicity</th>\n",
              "      <th>parental level of education</th>\n",
              "      <th>lunch</th>\n",
              "      <th>test preparation course</th>\n",
              "      <th>math score</th>\n",
              "      <th>reading score</th>\n",
              "      <th>writing score</th>\n",
              "    </tr>\n",
              "  </thead>\n",
              "  <tbody>\n",
              "    <tr>\n",
              "      <th>0</th>\n",
              "      <td>female</td>\n",
              "      <td>group B</td>\n",
              "      <td>bachelor's degree</td>\n",
              "      <td>standard</td>\n",
              "      <td>none</td>\n",
              "      <td>72</td>\n",
              "      <td>72</td>\n",
              "      <td>74</td>\n",
              "    </tr>\n",
              "    <tr>\n",
              "      <th>1</th>\n",
              "      <td>female</td>\n",
              "      <td>group C</td>\n",
              "      <td>some college</td>\n",
              "      <td>standard</td>\n",
              "      <td>completed</td>\n",
              "      <td>69</td>\n",
              "      <td>90</td>\n",
              "      <td>88</td>\n",
              "    </tr>\n",
              "    <tr>\n",
              "      <th>2</th>\n",
              "      <td>female</td>\n",
              "      <td>group B</td>\n",
              "      <td>master's degree</td>\n",
              "      <td>standard</td>\n",
              "      <td>none</td>\n",
              "      <td>90</td>\n",
              "      <td>95</td>\n",
              "      <td>93</td>\n",
              "    </tr>\n",
              "    <tr>\n",
              "      <th>3</th>\n",
              "      <td>male</td>\n",
              "      <td>group A</td>\n",
              "      <td>associate's degree</td>\n",
              "      <td>free/reduced</td>\n",
              "      <td>none</td>\n",
              "      <td>47</td>\n",
              "      <td>57</td>\n",
              "      <td>44</td>\n",
              "    </tr>\n",
              "    <tr>\n",
              "      <th>4</th>\n",
              "      <td>male</td>\n",
              "      <td>group C</td>\n",
              "      <td>some college</td>\n",
              "      <td>standard</td>\n",
              "      <td>none</td>\n",
              "      <td>76</td>\n",
              "      <td>78</td>\n",
              "      <td>75</td>\n",
              "    </tr>\n",
              "  </tbody>\n",
              "</table>\n",
              "</div>\n",
              "      <button class=\"colab-df-convert\" onclick=\"convertToInteractive('df-bd0b5091-64df-4dbc-980c-16ab81b50477')\"\n",
              "              title=\"Convert this dataframe to an interactive table.\"\n",
              "              style=\"display:none;\">\n",
              "        \n",
              "  <svg xmlns=\"http://www.w3.org/2000/svg\" height=\"24px\"viewBox=\"0 0 24 24\"\n",
              "       width=\"24px\">\n",
              "    <path d=\"M0 0h24v24H0V0z\" fill=\"none\"/>\n",
              "    <path d=\"M18.56 5.44l.94 2.06.94-2.06 2.06-.94-2.06-.94-.94-2.06-.94 2.06-2.06.94zm-11 1L8.5 8.5l.94-2.06 2.06-.94-2.06-.94L8.5 2.5l-.94 2.06-2.06.94zm10 10l.94 2.06.94-2.06 2.06-.94-2.06-.94-.94-2.06-.94 2.06-2.06.94z\"/><path d=\"M17.41 7.96l-1.37-1.37c-.4-.4-.92-.59-1.43-.59-.52 0-1.04.2-1.43.59L10.3 9.45l-7.72 7.72c-.78.78-.78 2.05 0 2.83L4 21.41c.39.39.9.59 1.41.59.51 0 1.02-.2 1.41-.59l7.78-7.78 2.81-2.81c.8-.78.8-2.07 0-2.86zM5.41 20L4 18.59l7.72-7.72 1.47 1.35L5.41 20z\"/>\n",
              "  </svg>\n",
              "      </button>\n",
              "      \n",
              "  <style>\n",
              "    .colab-df-container {\n",
              "      display:flex;\n",
              "      flex-wrap:wrap;\n",
              "      gap: 12px;\n",
              "    }\n",
              "\n",
              "    .colab-df-convert {\n",
              "      background-color: #E8F0FE;\n",
              "      border: none;\n",
              "      border-radius: 50%;\n",
              "      cursor: pointer;\n",
              "      display: none;\n",
              "      fill: #1967D2;\n",
              "      height: 32px;\n",
              "      padding: 0 0 0 0;\n",
              "      width: 32px;\n",
              "    }\n",
              "\n",
              "    .colab-df-convert:hover {\n",
              "      background-color: #E2EBFA;\n",
              "      box-shadow: 0px 1px 2px rgba(60, 64, 67, 0.3), 0px 1px 3px 1px rgba(60, 64, 67, 0.15);\n",
              "      fill: #174EA6;\n",
              "    }\n",
              "\n",
              "    [theme=dark] .colab-df-convert {\n",
              "      background-color: #3B4455;\n",
              "      fill: #D2E3FC;\n",
              "    }\n",
              "\n",
              "    [theme=dark] .colab-df-convert:hover {\n",
              "      background-color: #434B5C;\n",
              "      box-shadow: 0px 1px 3px 1px rgba(0, 0, 0, 0.15);\n",
              "      filter: drop-shadow(0px 1px 2px rgba(0, 0, 0, 0.3));\n",
              "      fill: #FFFFFF;\n",
              "    }\n",
              "  </style>\n",
              "\n",
              "      <script>\n",
              "        const buttonEl =\n",
              "          document.querySelector('#df-bd0b5091-64df-4dbc-980c-16ab81b50477 button.colab-df-convert');\n",
              "        buttonEl.style.display =\n",
              "          google.colab.kernel.accessAllowed ? 'block' : 'none';\n",
              "\n",
              "        async function convertToInteractive(key) {\n",
              "          const element = document.querySelector('#df-bd0b5091-64df-4dbc-980c-16ab81b50477');\n",
              "          const dataTable =\n",
              "            await google.colab.kernel.invokeFunction('convertToInteractive',\n",
              "                                                     [key], {});\n",
              "          if (!dataTable) return;\n",
              "\n",
              "          const docLinkHtml = 'Like what you see? Visit the ' +\n",
              "            '<a target=\"_blank\" href=https://colab.research.google.com/notebooks/data_table.ipynb>data table notebook</a>'\n",
              "            + ' to learn more about interactive tables.';\n",
              "          element.innerHTML = '';\n",
              "          dataTable['output_type'] = 'display_data';\n",
              "          await google.colab.output.renderOutput(dataTable, element);\n",
              "          const docLink = document.createElement('div');\n",
              "          docLink.innerHTML = docLinkHtml;\n",
              "          element.appendChild(docLink);\n",
              "        }\n",
              "      </script>\n",
              "    </div>\n",
              "  </div>\n",
              "  "
            ]
          },
          "metadata": {},
          "execution_count": 75
        }
      ]
    },
    {
      "cell_type": "markdown",
      "source": [
        "Pada kode di atas, menggunakan fungsi dropna() untuk menghapus baris yang memiliki nilai kosong pada kolom \"math score\". Menyimpan hasil pembersihan data ke dalam variabel df_cleaned. Terakhir,  mencetak lima baris pertama dari data yang sudah dibersihkan menggunakan fungsi head().\n",
        "\n",
        "\n",
        "\n",
        "\n",
        "\n"
      ],
      "metadata": {
        "id": "P1BWHLXwQtrd"
      }
    },
    {
      "cell_type": "markdown",
      "source": [
        "## Construct Data"
      ],
      "metadata": {
        "id": "z07WmLxxQ9Bc"
      }
    },
    {
      "cell_type": "code",
      "source": [
        "# Construct data\n",
        "df['pass_math'] = df['math score'] >= 60\n",
        "df['pass_reading'] = df['reading score'] >= 60\n",
        "df['pass_writing'] = df['writing score'] >= 60\n",
        "df['average_score'] = (df['math score'] + df['reading score'] + df['writing score']) / 3\n",
        "df['pass'] = df['average_score'].apply(lambda x: 1 if x >= 60 else 0)\n",
        "df.head()"
      ],
      "metadata": {
        "colab": {
          "base_uri": "https://localhost:8080/",
          "height": 302
        },
        "id": "xABAqjPNRGEl",
        "outputId": "c9a97bbf-8513-46ce-ed41-4a91286c4f20"
      },
      "execution_count": null,
      "outputs": [
        {
          "output_type": "execute_result",
          "data": {
            "text/plain": [
              "   gender race/ethnicity parental level of education         lunch  \\\n",
              "0  female        group B           bachelor's degree      standard   \n",
              "1  female        group C                some college      standard   \n",
              "2  female        group B             master's degree      standard   \n",
              "3    male        group A          associate's degree  free/reduced   \n",
              "4    male        group C                some college      standard   \n",
              "\n",
              "  test preparation course  math score  reading score  writing score  \\\n",
              "0                    none          72             72             74   \n",
              "1               completed          69             90             88   \n",
              "2                    none          90             95             93   \n",
              "3                    none          47             57             44   \n",
              "4                    none          76             78             75   \n",
              "\n",
              "   pass_math  pass_reading  pass_writing  average_score  pass  \n",
              "0       True          True          True      72.666667     1  \n",
              "1       True          True          True      82.333333     1  \n",
              "2       True          True          True      92.666667     1  \n",
              "3      False         False         False      49.333333     0  \n",
              "4       True          True          True      76.333333     1  "
            ],
            "text/html": [
              "\n",
              "  <div id=\"df-0a902b25-95ab-4c6d-8602-3ef87feb23d5\">\n",
              "    <div class=\"colab-df-container\">\n",
              "      <div>\n",
              "<style scoped>\n",
              "    .dataframe tbody tr th:only-of-type {\n",
              "        vertical-align: middle;\n",
              "    }\n",
              "\n",
              "    .dataframe tbody tr th {\n",
              "        vertical-align: top;\n",
              "    }\n",
              "\n",
              "    .dataframe thead th {\n",
              "        text-align: right;\n",
              "    }\n",
              "</style>\n",
              "<table border=\"1\" class=\"dataframe\">\n",
              "  <thead>\n",
              "    <tr style=\"text-align: right;\">\n",
              "      <th></th>\n",
              "      <th>gender</th>\n",
              "      <th>race/ethnicity</th>\n",
              "      <th>parental level of education</th>\n",
              "      <th>lunch</th>\n",
              "      <th>test preparation course</th>\n",
              "      <th>math score</th>\n",
              "      <th>reading score</th>\n",
              "      <th>writing score</th>\n",
              "      <th>pass_math</th>\n",
              "      <th>pass_reading</th>\n",
              "      <th>pass_writing</th>\n",
              "      <th>average_score</th>\n",
              "      <th>pass</th>\n",
              "    </tr>\n",
              "  </thead>\n",
              "  <tbody>\n",
              "    <tr>\n",
              "      <th>0</th>\n",
              "      <td>female</td>\n",
              "      <td>group B</td>\n",
              "      <td>bachelor's degree</td>\n",
              "      <td>standard</td>\n",
              "      <td>none</td>\n",
              "      <td>72</td>\n",
              "      <td>72</td>\n",
              "      <td>74</td>\n",
              "      <td>True</td>\n",
              "      <td>True</td>\n",
              "      <td>True</td>\n",
              "      <td>72.666667</td>\n",
              "      <td>1</td>\n",
              "    </tr>\n",
              "    <tr>\n",
              "      <th>1</th>\n",
              "      <td>female</td>\n",
              "      <td>group C</td>\n",
              "      <td>some college</td>\n",
              "      <td>standard</td>\n",
              "      <td>completed</td>\n",
              "      <td>69</td>\n",
              "      <td>90</td>\n",
              "      <td>88</td>\n",
              "      <td>True</td>\n",
              "      <td>True</td>\n",
              "      <td>True</td>\n",
              "      <td>82.333333</td>\n",
              "      <td>1</td>\n",
              "    </tr>\n",
              "    <tr>\n",
              "      <th>2</th>\n",
              "      <td>female</td>\n",
              "      <td>group B</td>\n",
              "      <td>master's degree</td>\n",
              "      <td>standard</td>\n",
              "      <td>none</td>\n",
              "      <td>90</td>\n",
              "      <td>95</td>\n",
              "      <td>93</td>\n",
              "      <td>True</td>\n",
              "      <td>True</td>\n",
              "      <td>True</td>\n",
              "      <td>92.666667</td>\n",
              "      <td>1</td>\n",
              "    </tr>\n",
              "    <tr>\n",
              "      <th>3</th>\n",
              "      <td>male</td>\n",
              "      <td>group A</td>\n",
              "      <td>associate's degree</td>\n",
              "      <td>free/reduced</td>\n",
              "      <td>none</td>\n",
              "      <td>47</td>\n",
              "      <td>57</td>\n",
              "      <td>44</td>\n",
              "      <td>False</td>\n",
              "      <td>False</td>\n",
              "      <td>False</td>\n",
              "      <td>49.333333</td>\n",
              "      <td>0</td>\n",
              "    </tr>\n",
              "    <tr>\n",
              "      <th>4</th>\n",
              "      <td>male</td>\n",
              "      <td>group C</td>\n",
              "      <td>some college</td>\n",
              "      <td>standard</td>\n",
              "      <td>none</td>\n",
              "      <td>76</td>\n",
              "      <td>78</td>\n",
              "      <td>75</td>\n",
              "      <td>True</td>\n",
              "      <td>True</td>\n",
              "      <td>True</td>\n",
              "      <td>76.333333</td>\n",
              "      <td>1</td>\n",
              "    </tr>\n",
              "  </tbody>\n",
              "</table>\n",
              "</div>\n",
              "      <button class=\"colab-df-convert\" onclick=\"convertToInteractive('df-0a902b25-95ab-4c6d-8602-3ef87feb23d5')\"\n",
              "              title=\"Convert this dataframe to an interactive table.\"\n",
              "              style=\"display:none;\">\n",
              "        \n",
              "  <svg xmlns=\"http://www.w3.org/2000/svg\" height=\"24px\"viewBox=\"0 0 24 24\"\n",
              "       width=\"24px\">\n",
              "    <path d=\"M0 0h24v24H0V0z\" fill=\"none\"/>\n",
              "    <path d=\"M18.56 5.44l.94 2.06.94-2.06 2.06-.94-2.06-.94-.94-2.06-.94 2.06-2.06.94zm-11 1L8.5 8.5l.94-2.06 2.06-.94-2.06-.94L8.5 2.5l-.94 2.06-2.06.94zm10 10l.94 2.06.94-2.06 2.06-.94-2.06-.94-.94-2.06-.94 2.06-2.06.94z\"/><path d=\"M17.41 7.96l-1.37-1.37c-.4-.4-.92-.59-1.43-.59-.52 0-1.04.2-1.43.59L10.3 9.45l-7.72 7.72c-.78.78-.78 2.05 0 2.83L4 21.41c.39.39.9.59 1.41.59.51 0 1.02-.2 1.41-.59l7.78-7.78 2.81-2.81c.8-.78.8-2.07 0-2.86zM5.41 20L4 18.59l7.72-7.72 1.47 1.35L5.41 20z\"/>\n",
              "  </svg>\n",
              "      </button>\n",
              "      \n",
              "  <style>\n",
              "    .colab-df-container {\n",
              "      display:flex;\n",
              "      flex-wrap:wrap;\n",
              "      gap: 12px;\n",
              "    }\n",
              "\n",
              "    .colab-df-convert {\n",
              "      background-color: #E8F0FE;\n",
              "      border: none;\n",
              "      border-radius: 50%;\n",
              "      cursor: pointer;\n",
              "      display: none;\n",
              "      fill: #1967D2;\n",
              "      height: 32px;\n",
              "      padding: 0 0 0 0;\n",
              "      width: 32px;\n",
              "    }\n",
              "\n",
              "    .colab-df-convert:hover {\n",
              "      background-color: #E2EBFA;\n",
              "      box-shadow: 0px 1px 2px rgba(60, 64, 67, 0.3), 0px 1px 3px 1px rgba(60, 64, 67, 0.15);\n",
              "      fill: #174EA6;\n",
              "    }\n",
              "\n",
              "    [theme=dark] .colab-df-convert {\n",
              "      background-color: #3B4455;\n",
              "      fill: #D2E3FC;\n",
              "    }\n",
              "\n",
              "    [theme=dark] .colab-df-convert:hover {\n",
              "      background-color: #434B5C;\n",
              "      box-shadow: 0px 1px 3px 1px rgba(0, 0, 0, 0.15);\n",
              "      filter: drop-shadow(0px 1px 2px rgba(0, 0, 0, 0.3));\n",
              "      fill: #FFFFFF;\n",
              "    }\n",
              "  </style>\n",
              "\n",
              "      <script>\n",
              "        const buttonEl =\n",
              "          document.querySelector('#df-0a902b25-95ab-4c6d-8602-3ef87feb23d5 button.colab-df-convert');\n",
              "        buttonEl.style.display =\n",
              "          google.colab.kernel.accessAllowed ? 'block' : 'none';\n",
              "\n",
              "        async function convertToInteractive(key) {\n",
              "          const element = document.querySelector('#df-0a902b25-95ab-4c6d-8602-3ef87feb23d5');\n",
              "          const dataTable =\n",
              "            await google.colab.kernel.invokeFunction('convertToInteractive',\n",
              "                                                     [key], {});\n",
              "          if (!dataTable) return;\n",
              "\n",
              "          const docLinkHtml = 'Like what you see? Visit the ' +\n",
              "            '<a target=\"_blank\" href=https://colab.research.google.com/notebooks/data_table.ipynb>data table notebook</a>'\n",
              "            + ' to learn more about interactive tables.';\n",
              "          element.innerHTML = '';\n",
              "          dataTable['output_type'] = 'display_data';\n",
              "          await google.colab.output.renderOutput(dataTable, element);\n",
              "          const docLink = document.createElement('div');\n",
              "          docLink.innerHTML = docLinkHtml;\n",
              "          element.appendChild(docLink);\n",
              "        }\n",
              "      </script>\n",
              "    </div>\n",
              "  </div>\n",
              "  "
            ]
          },
          "metadata": {},
          "execution_count": 76
        }
      ]
    },
    {
      "cell_type": "markdown",
      "source": [
        "Pada kode di atas, menggunakan operator indexing [] untuk menambahkan kolom baru pada dataset dengan nama \"pass_math\". Kolom baru ini menunjukkan apakah nilai matematika seseorang lulus atau tidak (dengan batas kelulusan 60). Menyimpan dataset yang sudah diubah ke dalam variabel df. Terakhir, mencetak lima baris pertama dari data yang sudah diubah menggunakan fungsi head()."
      ],
      "metadata": {
        "id": "NwFvHfH5RjQu"
      }
    },
    {
      "cell_type": "markdown",
      "source": [
        "## Integrate Data"
      ],
      "metadata": {
        "id": "C9Ve9I0QRr8c"
      }
    },
    {
      "cell_type": "markdown",
      "source": [
        "Pada tahap ini, kita dapat menggabungkan data dari beberapa sumber. Namun, pada dataset ini, tidak diperlukan proses integrasi data.\n",
        "\n",
        "Karena dataset \"Students Performance in Exams\" hanya terdiri dari satu file CSV, tidak ada proses integrasi data yang diperlukan."
      ],
      "metadata": {
        "id": "eR-R_mBaSEAa"
      }
    },
    {
      "cell_type": "markdown",
      "source": [
        "## Format Data"
      ],
      "metadata": {
        "id": "EIBhQtHGSQd_"
      }
    },
    {
      "cell_type": "code",
      "source": [
        "# Ubah data kategorikal menjadi numerik\n",
        "df['gender'] = df['gender'].map({'female': 0, 'male': 1})\n",
        "df['race/ethnicity'] = df['race/ethnicity'].map({'group A': 0, 'group B': 1, 'group C': 2, 'group D': 3, 'group E': 4})\n",
        "df['parental level of education'] = df['parental level of education'].map({'some high school': 0, 'high school': 1, 'some college': 2, \"associate's degree\": 3, \"bachelor's degree\": 4, \"master's degree\": 5})\n",
        "df['lunch'] = df['lunch'].map({'standard': 0, 'free/reduced': 1})\n",
        "df['test preparation course'] = df['test preparation course'].map({'none': 0, 'completed': 1})\n",
        "df['pass_math'] = df['math score'].apply(lambda x: 1 if x >= 60 else 0)\n",
        "df['pass_reading'] = df['reading score'].apply(lambda x: 1 if x >= 60 else 0)\n",
        "df['pass_writing'] = df['writing score'].apply(lambda x: 1 if x >= 60 else 0)\n",
        "print(df)"
      ],
      "metadata": {
        "colab": {
          "base_uri": "https://localhost:8080/"
        },
        "id": "3sn5f5ZrSVNK",
        "outputId": "0bb33a4f-0780-43e5-a231-04c625cfecbb"
      },
      "execution_count": null,
      "outputs": [
        {
          "output_type": "stream",
          "name": "stdout",
          "text": [
            "     gender  race/ethnicity  parental level of education  lunch  \\\n",
            "0         0               1                            4      0   \n",
            "1         0               2                            2      0   \n",
            "2         0               1                            5      0   \n",
            "3         1               0                            3      1   \n",
            "4         1               2                            2      0   \n",
            "..      ...             ...                          ...    ...   \n",
            "995       0               4                            5      0   \n",
            "996       1               2                            1      1   \n",
            "997       0               2                            1      1   \n",
            "998       0               3                            2      0   \n",
            "999       0               3                            2      1   \n",
            "\n",
            "     test preparation course  math score  reading score  writing score  \\\n",
            "0                          0          72             72             74   \n",
            "1                          1          69             90             88   \n",
            "2                          0          90             95             93   \n",
            "3                          0          47             57             44   \n",
            "4                          0          76             78             75   \n",
            "..                       ...         ...            ...            ...   \n",
            "995                        1          88             99             95   \n",
            "996                        0          62             55             55   \n",
            "997                        1          59             71             65   \n",
            "998                        1          68             78             77   \n",
            "999                        0          77             86             86   \n",
            "\n",
            "     pass_math  pass_reading  pass_writing  average_score  pass  \n",
            "0            1             1             1      72.666667     1  \n",
            "1            1             1             1      82.333333     1  \n",
            "2            1             1             1      92.666667     1  \n",
            "3            0             0             0      49.333333     0  \n",
            "4            1             1             1      76.333333     1  \n",
            "..         ...           ...           ...            ...   ...  \n",
            "995          1             1             1      94.000000     1  \n",
            "996          1             0             0      57.333333     0  \n",
            "997          0             1             1      65.000000     1  \n",
            "998          1             1             1      74.333333     1  \n",
            "999          1             1             1      83.000000     1  \n",
            "\n",
            "[1000 rows x 13 columns]\n"
          ]
        }
      ]
    },
    {
      "cell_type": "markdown",
      "source": [
        "#**Modeling**"
      ],
      "metadata": {
        "id": "Zud9LA4HTy8l"
      }
    },
    {
      "cell_type": "markdown",
      "source": [
        "* **NAIVE BAYES**"
      ],
      "metadata": {
        "id": "9lOONcMtDeuc"
      }
    },
    {
      "cell_type": "code",
      "source": [
        "import numpy as np\n",
        "from sklearn.preprocessing import MinMaxScaler\n",
        "from sklearn.metrics import accuracy_score, precision_score, recall_score, f1_score, roc_auc_score\n",
        "from sklearn.naive_bayes import GaussianNB\n",
        "from sklearn.model_selection import train_test_split\n",
        "\n",
        "X = df[['math score', 'reading score', 'writing score', 'gender', 'race/ethnicity', 'parental level of education', 'lunch']]\n",
        "y = df[['pass']]\n",
        "X_train, X_test, y_train, y_test = train_test_split(X, y, test_size=0.2, random_state=1)\n",
        "\n",
        "scaler = MinMaxScaler()\n",
        "X_train[['math score', 'reading score', 'writing score', 'race/ethnicity', 'parental level of education', 'lunch']] = scaler.fit_transform(X_train[['math score', 'reading score', 'writing score', 'race/ethnicity', 'parental level of education', 'lunch']])\n",
        "X_test[['math score', 'reading score', 'writing score', 'race/ethnicity', 'parental level of education', 'lunch']] = scaler.transform(X_test[['math score', 'reading score', 'writing score', 'race/ethnicity', 'parental level of education', 'lunch']])"
      ],
      "metadata": {
        "id": "Sv3M-Ykid6aV"
      },
      "execution_count": null,
      "outputs": []
    },
    {
      "cell_type": "code",
      "source": [
        "# Training model Naive Bayes\n",
        "nb = GaussianNB()\n",
        "nb.fit(X_train, y_train)"
      ],
      "metadata": {
        "colab": {
          "base_uri": "https://localhost:8080/",
          "height": 129
        },
        "id": "zJ5jOdl8Jl7U",
        "outputId": "48ba3f82-03bd-480c-ca99-2b9b20435420"
      },
      "execution_count": null,
      "outputs": [
        {
          "output_type": "stream",
          "name": "stderr",
          "text": [
            "/usr/local/lib/python3.10/dist-packages/sklearn/utils/validation.py:1143: DataConversionWarning: A column-vector y was passed when a 1d array was expected. Please change the shape of y to (n_samples, ), for example using ravel().\n",
            "  y = column_or_1d(y, warn=True)\n"
          ]
        },
        {
          "output_type": "execute_result",
          "data": {
            "text/plain": [
              "GaussianNB()"
            ],
            "text/html": [
              "<style>#sk-container-id-7 {color: black;background-color: white;}#sk-container-id-7 pre{padding: 0;}#sk-container-id-7 div.sk-toggleable {background-color: white;}#sk-container-id-7 label.sk-toggleable__label {cursor: pointer;display: block;width: 100%;margin-bottom: 0;padding: 0.3em;box-sizing: border-box;text-align: center;}#sk-container-id-7 label.sk-toggleable__label-arrow:before {content: \"▸\";float: left;margin-right: 0.25em;color: #696969;}#sk-container-id-7 label.sk-toggleable__label-arrow:hover:before {color: black;}#sk-container-id-7 div.sk-estimator:hover label.sk-toggleable__label-arrow:before {color: black;}#sk-container-id-7 div.sk-toggleable__content {max-height: 0;max-width: 0;overflow: hidden;text-align: left;background-color: #f0f8ff;}#sk-container-id-7 div.sk-toggleable__content pre {margin: 0.2em;color: black;border-radius: 0.25em;background-color: #f0f8ff;}#sk-container-id-7 input.sk-toggleable__control:checked~div.sk-toggleable__content {max-height: 200px;max-width: 100%;overflow: auto;}#sk-container-id-7 input.sk-toggleable__control:checked~label.sk-toggleable__label-arrow:before {content: \"▾\";}#sk-container-id-7 div.sk-estimator input.sk-toggleable__control:checked~label.sk-toggleable__label {background-color: #d4ebff;}#sk-container-id-7 div.sk-label input.sk-toggleable__control:checked~label.sk-toggleable__label {background-color: #d4ebff;}#sk-container-id-7 input.sk-hidden--visually {border: 0;clip: rect(1px 1px 1px 1px);clip: rect(1px, 1px, 1px, 1px);height: 1px;margin: -1px;overflow: hidden;padding: 0;position: absolute;width: 1px;}#sk-container-id-7 div.sk-estimator {font-family: monospace;background-color: #f0f8ff;border: 1px dotted black;border-radius: 0.25em;box-sizing: border-box;margin-bottom: 0.5em;}#sk-container-id-7 div.sk-estimator:hover {background-color: #d4ebff;}#sk-container-id-7 div.sk-parallel-item::after {content: \"\";width: 100%;border-bottom: 1px solid gray;flex-grow: 1;}#sk-container-id-7 div.sk-label:hover label.sk-toggleable__label {background-color: #d4ebff;}#sk-container-id-7 div.sk-serial::before {content: \"\";position: absolute;border-left: 1px solid gray;box-sizing: border-box;top: 0;bottom: 0;left: 50%;z-index: 0;}#sk-container-id-7 div.sk-serial {display: flex;flex-direction: column;align-items: center;background-color: white;padding-right: 0.2em;padding-left: 0.2em;position: relative;}#sk-container-id-7 div.sk-item {position: relative;z-index: 1;}#sk-container-id-7 div.sk-parallel {display: flex;align-items: stretch;justify-content: center;background-color: white;position: relative;}#sk-container-id-7 div.sk-item::before, #sk-container-id-7 div.sk-parallel-item::before {content: \"\";position: absolute;border-left: 1px solid gray;box-sizing: border-box;top: 0;bottom: 0;left: 50%;z-index: -1;}#sk-container-id-7 div.sk-parallel-item {display: flex;flex-direction: column;z-index: 1;position: relative;background-color: white;}#sk-container-id-7 div.sk-parallel-item:first-child::after {align-self: flex-end;width: 50%;}#sk-container-id-7 div.sk-parallel-item:last-child::after {align-self: flex-start;width: 50%;}#sk-container-id-7 div.sk-parallel-item:only-child::after {width: 0;}#sk-container-id-7 div.sk-dashed-wrapped {border: 1px dashed gray;margin: 0 0.4em 0.5em 0.4em;box-sizing: border-box;padding-bottom: 0.4em;background-color: white;}#sk-container-id-7 div.sk-label label {font-family: monospace;font-weight: bold;display: inline-block;line-height: 1.2em;}#sk-container-id-7 div.sk-label-container {text-align: center;}#sk-container-id-7 div.sk-container {/* jupyter's `normalize.less` sets `[hidden] { display: none; }` but bootstrap.min.css set `[hidden] { display: none !important; }` so we also need the `!important` here to be able to override the default hidden behavior on the sphinx rendered scikit-learn.org. See: https://github.com/scikit-learn/scikit-learn/issues/21755 */display: inline-block !important;position: relative;}#sk-container-id-7 div.sk-text-repr-fallback {display: none;}</style><div id=\"sk-container-id-7\" class=\"sk-top-container\"><div class=\"sk-text-repr-fallback\"><pre>GaussianNB()</pre><b>In a Jupyter environment, please rerun this cell to show the HTML representation or trust the notebook. <br />On GitHub, the HTML representation is unable to render, please try loading this page with nbviewer.org.</b></div><div class=\"sk-container\" hidden><div class=\"sk-item\"><div class=\"sk-estimator sk-toggleable\"><input class=\"sk-toggleable__control sk-hidden--visually\" id=\"sk-estimator-id-7\" type=\"checkbox\" checked><label for=\"sk-estimator-id-7\" class=\"sk-toggleable__label sk-toggleable__label-arrow\">GaussianNB</label><div class=\"sk-toggleable__content\"><pre>GaussianNB()</pre></div></div></div></div></div>"
            ]
          },
          "metadata": {},
          "execution_count": 151
        }
      ]
    },
    {
      "cell_type": "code",
      "source": [
        "import numpy as np\n",
        "\n",
        "# Mengambil probabilitas fitur berdasarkan kelas target\n",
        "class_labels = nb.classes_\n",
        "feature_importance = pd.DataFrame(data=np.exp(nb.theta_), columns=X_train.columns, index=class_labels)\n",
        "print(\"Probabilitas Fitur Berdasarkan Kelas Target:\")\n",
        "print(feature_importance)"
      ],
      "metadata": {
        "colab": {
          "base_uri": "https://localhost:8080/"
        },
        "id": "F5RKzxryb8DL",
        "outputId": "cd42ff2d-7010-42ef-eece-5136ed624723"
      },
      "execution_count": null,
      "outputs": [
        {
          "output_type": "stream",
          "name": "stdout",
          "text": [
            "Probabilitas Fitur Berdasarkan Kelas Target:\n",
            "   math score  reading score  writing score    gender  race/ethnicity  \\\n",
            "0    1.568865       1.448770       1.505166  1.796042        1.624760   \n",
            "1    2.024034       1.986465       2.030504  1.578930        1.760757   \n",
            "\n",
            "   parental level of education     lunch  \n",
            "0                     1.418428  1.693889  \n",
            "1                     1.550238  1.328084  \n"
          ]
        }
      ]
    },
    {
      "cell_type": "code",
      "source": [
        "# Melakukan prediksi pada data baru\n",
        "new_data = df.sample(frac=0.2, random_state=1)[['math score', 'reading score', 'writing score', 'gender', 'race/ethnicity', 'parental level of education', 'lunch', 'pass']]\n",
        "new_data_scaled = scaler.transform(new_data[['math score', 'reading score', 'writing score', 'race/ethnicity', 'parental level of education', 'lunch']])\n",
        "new_data_scaled = np.hstack((new_data_scaled, new_data[['pass']].values))\n",
        "predictions = nb.predict(new_data_scaled)\n",
        "\n",
        "print(pd.DataFrame(new_data, columns=['math score', 'reading score', 'writing score', 'gender', 'race/ethnicity', 'parental level of education', 'lunch', 'pass']))"
      ],
      "metadata": {
        "colab": {
          "base_uri": "https://localhost:8080/"
        },
        "id": "Nfy6BUNGJnB9",
        "outputId": "da989e99-77c8-4eec-d9d7-f60dc3fefd7d"
      },
      "execution_count": null,
      "outputs": [
        {
          "output_type": "stream",
          "name": "stdout",
          "text": [
            "     math score  reading score  writing score  gender  race/ethnicity  \\\n",
            "507          55             59             54       1               1   \n",
            "818          60             72             68       0               1   \n",
            "452          65             77             74       0               2   \n",
            "368          44             64             58       0               0   \n",
            "242          56             52             55       0               3   \n",
            "..          ...            ...            ...     ...             ...   \n",
            "430          64             66             59       1               2   \n",
            "874          43             62             61       0               2   \n",
            "550          79             76             65       1               2   \n",
            "608          61             64             62       0               4   \n",
            "207          81             80             76       1               4   \n",
            "\n",
            "     parental level of education  lunch  pass  \n",
            "507                            4      1     0  \n",
            "818                            1      1     1  \n",
            "452                            3      1     1  \n",
            "368                            0      1     0  \n",
            "242                            1      0     0  \n",
            "..                           ...    ...   ...  \n",
            "430                            3      1     1  \n",
            "874                            4      1     0  \n",
            "550                            0      1     1  \n",
            "608                            2      0     1  \n",
            "207                            1      0     1  \n",
            "\n",
            "[200 rows x 8 columns]\n"
          ]
        },
        {
          "output_type": "stream",
          "name": "stderr",
          "text": [
            "/usr/local/lib/python3.10/dist-packages/sklearn/base.py:439: UserWarning: X does not have valid feature names, but GaussianNB was fitted with feature names\n",
            "  warnings.warn(\n"
          ]
        }
      ]
    },
    {
      "cell_type": "code",
      "source": [
        "# Evaluasi model Naive Bayes\n",
        "def evaluate_model(model, X_test, y_test):\n",
        "    y_pred = model.predict(X_test)\n",
        "    accuracy = accuracy_score(y_test, y_pred)\n",
        "    precision = precision_score(y_test, y_pred)\n",
        "    recall = recall_score(y_test, y_pred)\n",
        "    f1 = f1_score(y_test, y_pred)\n",
        "    roc_auc = roc_auc_score(y_test, y_pred)\n",
        "    \n",
        "    print(\"Accuracy:\", round(accuracy, 4))\n",
        "    print(\"Precision:\", round(precision, 4))\n",
        "    print(\"Recall:\", round(recall, 4))\n",
        "    print(\"F1 Score:\", round(f1, 4))\n",
        "    print(\"ROC AUC:\", round(roc_auc, 4))\n",
        "\n",
        "evaluate_model(nb, X_test, y_test)"
      ],
      "metadata": {
        "colab": {
          "base_uri": "https://localhost:8080/"
        },
        "id": "N1B8rnJRJtXp",
        "outputId": "f1a6ceb3-896c-4199-a3a1-6ad94b6b019e"
      },
      "execution_count": null,
      "outputs": [
        {
          "output_type": "stream",
          "name": "stdout",
          "text": [
            "Accuracy: 0.98\n",
            "Precision: 0.9854\n",
            "Recall: 0.9854\n",
            "F1 Score: 0.9854\n",
            "ROC AUC: 0.9768\n"
          ]
        }
      ]
    },
    {
      "cell_type": "markdown",
      "source": [
        "* **KNN**"
      ],
      "metadata": {
        "id": "iiFngJh9aCAE"
      }
    },
    {
      "cell_type": "code",
      "source": [
        "import pandas as pd\n",
        "import numpy as np\n",
        "import math\n",
        "from sklearn.neighbors import KNeighborsClassifier\n",
        "from sklearn.model_selection import KFold\n",
        "\n",
        "X = df[['math score', 'reading score', 'writing score', 'gender', 'race/ethnicity', 'parental level of education', 'lunch']]\n",
        "y = df['pass']\n",
        "X_train, X_test, y_train, y_test = train_test_split(X, y, test_size=0.2, random_state=42)"
      ],
      "metadata": {
        "id": "ArU1FzPni8Ej"
      },
      "execution_count": null,
      "outputs": []
    },
    {
      "cell_type": "code",
      "source": [
        "# Inisialisasi parameter K\n",
        "k_range = range(1, 31)\n",
        "kf = KFold(n_splits=10, shuffle=True, random_state=42)\n",
        "accuracy_scores = []\n",
        "\n",
        "for k in k_range:\n",
        "    fold_scores = []\n",
        "    for train_index, val_index in kf.split(X_train):\n",
        "        X_train_fold, X_val_fold = X_train.iloc[train_index], X_train.iloc[val_index]\n",
        "        y_train_fold, y_val_fold = y_train.iloc[train_index], y_train.iloc[val_index]\n",
        "        \n",
        "        y_val_pred = predict(X_train_fold, y_train_fold, X_val_fold.values, k)\n",
        "        \n",
        "        fold_accuracy = sum(y_val_pred == y_val_fold) / len(y_val_fold)\n",
        "        fold_scores.append(fold_accuracy)\n",
        "    \n",
        "    avg_accuracy = sum(fold_scores) / len(fold_scores)\n",
        "    accuracy_scores.append(avg_accuracy)\n",
        "    \n",
        "best_k = k_range[np.argmax(accuracy_scores)]\n",
        "print(\"K terbaik adalah:\", best_k)"
      ],
      "metadata": {
        "colab": {
          "base_uri": "https://localhost:8080/"
        },
        "id": "z1V39mV1KA6y",
        "outputId": "6ea44b06-11a3-4059-bba9-87ffb29b3804"
      },
      "execution_count": null,
      "outputs": [
        {
          "output_type": "stream",
          "name": "stdout",
          "text": [
            "K terbaik adalah: 28\n"
          ]
        }
      ]
    },
    {
      "cell_type": "code",
      "source": [
        "# Plot nilai akurasi untuk setiap nilai K\n",
        "import matplotlib.pyplot as plt\n",
        "\n",
        "plt.plot(k_range, accuracy_scores)\n",
        "plt.xlabel('K')\n",
        "plt.ylabel('Akurasi')\n",
        "plt.show()"
      ],
      "metadata": {
        "colab": {
          "base_uri": "https://localhost:8080/",
          "height": 449
        },
        "id": "RyVN6YSFKG4R",
        "outputId": "8e84a75f-7a23-4586-843a-8314db08a0a9"
      },
      "execution_count": null,
      "outputs": [
        {
          "output_type": "display_data",
          "data": {
            "text/plain": [
              "<Figure size 640x480 with 1 Axes>"
            ],
            "image/png": "[encoded data removed]"
          },
          "metadata": {}
        }
      ]
    },
    {
      "cell_type": "code",
      "source": [
        "# Fungsi untuk menghitung jarak antara dua titik\n",
        "def euclidean_distance(point1, point2):\n",
        "    distance = 0\n",
        "    for i in range(len(point1)):\n",
        "        distance += (point1[i] - point2[i]) ** 2\n",
        "    return math.sqrt(distance)"
      ],
      "metadata": {
        "id": "N-SfdG1YKTp5"
      },
      "execution_count": null,
      "outputs": []
    },
    {
      "cell_type": "code",
      "source": [
        "# Fungsi untuk memprediksi kelas target menggunakan KNN\n",
        "def predict(X_train, y_train, X_test, k):\n",
        "    predictions = []\n",
        "    for i in range(len(X_test)):\n",
        "        distances = []\n",
        "        for j in range(len(X_train)):\n",
        "            distance = euclidean_distance(X_test[i], X_train.iloc[j])\n",
        "            distances.append((distance, y_train.iloc[j]))\n",
        "        distances.sort()\n",
        "        neighbors = []\n",
        "        for n in range(k):\n",
        "            neighbors.append(distances[n][1])\n",
        "        predictions.append(max(set(neighbors), key=neighbors.count))\n",
        "    return predictions"
      ],
      "metadata": {
        "id": "1hGQv01iKUt0"
      },
      "execution_count": null,
      "outputs": []
    },
    {
      "cell_type": "code",
      "source": [
        "# Melakukan prediksi data testing dengan KNN\n",
        "y_pred = predict(X_train, y_train, X_test.values, 3)\n",
        "evaluate_model(KNeighborsClassifier(n_neighbors=3).fit(X_train, y_train), X_test, y_test)\n",
        "\n",
        "def evaluate_model(model, X_test, y_test):\n",
        "    y_pred = model.predict(X_test)\n",
        "    accuracy = accuracy_score(y_test, y_pred)\n",
        "    precision = precision_score(y_test, y_pred)\n",
        "    recall = recall_score(y_test, y_pred)\n",
        "    f1 = f1_score(y_test, y_pred)\n",
        "    roc_auc = roc_auc_score(y_test, y_pred)\n",
        "    \n",
        "    print(\"Accuracy:\", round(accuracy, 4))\n",
        "    print(\"Precision:\", round(precision, 4))\n",
        "    print(\"Recall:\", round(recall, 4))\n",
        "    print(\"F1 Score:\", round(f1, 4))\n",
        "    print(\"ROC AUC:\", round(roc_auc, 4))"
      ],
      "metadata": {
        "colab": {
          "base_uri": "https://localhost:8080/"
        },
        "id": "jubkIdD3KbEc",
        "outputId": "088bd47d-0c7c-413f-fb4e-90988f4ca957"
      },
      "execution_count": null,
      "outputs": [
        {
          "output_type": "stream",
          "name": "stdout",
          "text": [
            "Accuracy: 0.97\n",
            "Precision: 0.9853\n",
            "Recall: 0.971\n",
            "F1 Score: 0.9781\n",
            "ROC AUC: 0.9694\n"
          ]
        }
      ]
    },
    {
      "cell_type": "markdown",
      "source": [
        "**C4.5**\n"
      ],
      "metadata": {
        "id": "URlQ6ENlu_aX"
      }
    },
    {
      "cell_type": "code",
      "source": [
        "from sklearn.metrics import classification_report, confusion_matrix, accuracy_score, precision_score, recall_score, f1_score, roc_auc_score\n",
        "\n",
        "# Hitung entropy dari sebuah himpunan data\n",
        "def entropy(data):\n",
        "    label_column = data.iloc[:, -1]\n",
        "    _, counts = np.unique(label_column, return_counts=True)\n",
        "    probabilities = counts / counts.sum()\n",
        "    entropy = sum(probabilities * -np.log2(probabilities))\n",
        "    return entropy"
      ],
      "metadata": {
        "id": "p4wJs6FWD1YZ"
      },
      "execution_count": null,
      "outputs": []
    },
    {
      "cell_type": "code",
      "source": [
        "# Hitung information gain dari sebuah fitur\n",
        "def information_gain(data, feature_column):\n",
        "    total_entropy = entropy(data)\n",
        "    values, counts = np.unique(data[feature_column], return_counts=True)\n",
        "    probabilities = counts / counts.sum()\n",
        "    entropies = []\n",
        "    for value in values:\n",
        "        subset = data[data[feature_column] == value]\n",
        "        subset_entropy = entropy(subset)\n",
        "        entropies.append(subset_entropy)\n",
        "    weighted_entropy = sum(probabilities * entropies)\n",
        "    information_gain = total_entropy - weighted_entropy\n",
        "    return information_gain"
      ],
      "metadata": {
        "id": "c0y66mzxKx4d"
      },
      "execution_count": null,
      "outputs": []
    },
    {
      "cell_type": "code",
      "source": [
        "# Pilih fitur terbaik yang akan digunakan sebagai pemisah\n",
        "def choose_best_feature(data, features):\n",
        "    information_gains = [information_gain(data, feature) for feature in features]\n",
        "    best_feature_index = np.argmax(information_gains)\n",
        "    best_feature = features[best_feature_index]\n",
        "    return best_feature"
      ],
      "metadata": {
        "id": "5gTUxmtsK-ON"
      },
      "execution_count": null,
      "outputs": []
    },
    {
      "cell_type": "code",
      "source": [
        "# Buat pohon keputusan\n",
        "def create_decision_tree(data, original_data, features):\n",
        "    if len(np.unique(data.iloc[:, -1])) <= 1:\n",
        "        return np.unique(data.iloc[:, -1])[0]\n",
        "    elif len(features) == 0:\n",
        "        return np.unique(original_data.iloc[:, -1])[np.argmax(np.unique(original_data.iloc[:, -1], return_counts=True)[1])]\n",
        "    else:\n",
        "        best_feature = choose_best_feature(data, features)\n",
        "        tree = {best_feature: {}}\n",
        "        features = [feature for feature in features if feature != best_feature]\n",
        "        for value in np.unique(data[best_feature]):\n",
        "            subset = data[data[best_feature] == value]\n",
        "            subtree = create_decision_tree(subset, original_data, features)\n",
        "            tree[best_feature][value] = subtree\n",
        "\n",
        "        return tree"
      ],
      "metadata": {
        "id": "B8irnT9_LAC9"
      },
      "execution_count": null,
      "outputs": []
    },
    {
      "cell_type": "code",
      "source": [
        "# Memisahkan data menjadi data training dan data testing\n",
        "X_train, X_test, y_train, y_test = train_test_split(df.iloc[:, :-1], df.iloc[:, -1], test_size=0.3, random_state=42)"
      ],
      "metadata": {
        "id": "JxPmq495LLAc"
      },
      "execution_count": null,
      "outputs": []
    },
    {
      "cell_type": "code",
      "source": [
        "# Membuat pohon keputusan dengan menggunakan data training\n",
        "tree = create_decision_tree(pd.concat([X_train, y_train], axis=1), pd.concat([X_train, y_train], axis=1), X_train.columns)"
      ],
      "metadata": {
        "id": "QWNDvyxqLL86"
      },
      "execution_count": null,
      "outputs": []
    },
    {
      "cell_type": "code",
      "source": [
        "# Melakukan prediksi pada data testing\n",
        "y_pred = []\n",
        "for _, sample in X_test.iterrows():\n",
        "    current_node = tree\n",
        "    while isinstance(current_node, dict):\n",
        "        feature = list(current_node.keys())[0]\n",
        "        value = sample[feature]\n",
        "        if value in current_node[feature]:\n",
        "            current_node = current_node[feature][value]\n",
        "        else:\n",
        "            current_node = np.unique(y_train)[np.argmax(np.unique(y_train, return_counts=True)[1])]\n",
        "    y_pred.append(current_node)"
      ],
      "metadata": {
        "id": "qy9EU9WhLQaD"
      },
      "execution_count": null,
      "outputs": []
    },
    {
      "cell_type": "code",
      "source": [
        "# Mencetak matriks evaluasi\n",
        "print('Confusion Matrix:\\n', confusion_matrix(y_test, y_pred))\n",
        "print('Classification Report:\\n', classification_report(y_test, y_pred))\n",
        "print('Accuracy:', accuracy_score(y_test, y_pred))\n",
        "print('Precision:', precision_score(y_test, y_pred, average='macro'))\n",
        "print('Recall:', recall_score(y_test, y_pred, average='macro'))\n",
        "print('F1 Score:', f1_score(y_test, y_pred, average='macro'))\n",
        "print('ROC AUC Score:', roc_auc_score(y_test, y_pred, multi_class='ovo'))"
      ],
      "metadata": {
        "colab": {
          "base_uri": "https://localhost:8080/"
        },
        "id": "_XDHKaCoLb6I",
        "outputId": "3b82cec8-ea49-4bfa-f6ce-5be96e1db5f3"
      },
      "execution_count": null,
      "outputs": [
        {
          "output_type": "stream",
          "name": "stdout",
          "text": [
            "Confusion Matrix:\n",
            " [[ 77  17]\n",
            " [  0 206]]\n",
            "Classification Report:\n",
            "               precision    recall  f1-score   support\n",
            "\n",
            "           0       1.00      0.82      0.90        94\n",
            "           1       0.92      1.00      0.96       206\n",
            "\n",
            "    accuracy                           0.94       300\n",
            "   macro avg       0.96      0.91      0.93       300\n",
            "weighted avg       0.95      0.94      0.94       300\n",
            "\n",
            "Accuracy: 0.9433333333333334\n",
            "Precision: 0.9618834080717489\n",
            "Recall: 0.9095744680851063\n",
            "F1 Score: 0.930478877847299\n",
            "ROC AUC Score: 0.9095744680851064\n"
          ]
        }
      ]
    },
    {
      "cell_type": "markdown",
      "source": [
        "#**Evaluation**"
      ],
      "metadata": {
        "id": "MJQPB9aebn-4"
      }
    },
    {
      "cell_type": "code",
      "source": [
        "# Membuat dataframe untuk menyimpan hasil evaluasi\n",
        "eval_df = pd.DataFrame(columns=['Algorithm', 'Accuracy', 'Precision', 'Recall', 'F1 Score', 'ROC AUC'])"
      ],
      "metadata": {
        "id": "LNso0fqGzH8n"
      },
      "execution_count": null,
      "outputs": []
    },
    {
      "cell_type": "code",
      "source": [
        "# Menambahkan hasil evaluasi naive bayes ke dataframe\n",
        "eval_df = eval_df.append({'Algorithm': 'Naive Bayes', \n",
        "                          'Accuracy': 0.98, \n",
        "                          'Precision': 0.9854, \n",
        "                          'Recall': 0.9854, \n",
        "                          'F1 Score': 0.9854, \n",
        "                          'ROC AUC': 0.9768}, \n",
        "                         ignore_index=True)"
      ],
      "metadata": {
        "colab": {
          "base_uri": "https://localhost:8080/"
        },
        "id": "ahksy3tWLubX",
        "outputId": "a21052d1-8902-43a8-e578-491ef649e049"
      },
      "execution_count": null,
      "outputs": [
        {
          "output_type": "stream",
          "name": "stderr",
          "text": [
            "<ipython-input-118-aeebba37aea3>:2: FutureWarning: The frame.append method is deprecated and will be removed from pandas in a future version. Use pandas.concat instead.\n",
            "  eval_df = eval_df.append({'Algorithm': 'Naive Bayes',\n"
          ]
        }
      ]
    },
    {
      "cell_type": "code",
      "source": [
        "# Menambahkan hasil evaluasi knn ke dataframe\n",
        "eval_df = eval_df.append({'Algorithm': 'KNN', \n",
        "                          'Accuracy': 0.97, \n",
        "                          'Precision': 0.9853, \n",
        "                          'Recall': 0.971, \n",
        "                          'F1 Score': 0.9781, \n",
        "                          'ROC AUC': 0.9694}, \n",
        "                         ignore_index=True)"
      ],
      "metadata": {
        "colab": {
          "base_uri": "https://localhost:8080/"
        },
        "id": "CcjZO4BZLvbX",
        "outputId": "1bc5e899-e459-458e-fd71-6db34f08e88a"
      },
      "execution_count": null,
      "outputs": [
        {
          "output_type": "stream",
          "name": "stderr",
          "text": [
            "<ipython-input-119-57b7378e5da7>:2: FutureWarning: The frame.append method is deprecated and will be removed from pandas in a future version. Use pandas.concat instead.\n",
            "  eval_df = eval_df.append({'Algorithm': 'KNN',\n"
          ]
        }
      ]
    },
    {
      "cell_type": "code",
      "source": [
        "# Menambahkan hasil evaluasi c4.5 ke dataframe\n",
        "eval_df = eval_df.append({'Algorithm': 'C4.5', \n",
        "                          'Accuracy': 0.9433333333333334, \n",
        "                          'Precision': 0.9618834080717489, \n",
        "                          'Recall': 0.9095744680851063, \n",
        "                          'F1 Score': 0.930478877847299, \n",
        "                          'ROC AUC': 0.9095744680851064}, \n",
        "                         ignore_index=True)"
      ],
      "metadata": {
        "colab": {
          "base_uri": "https://localhost:8080/"
        },
        "id": "nfG65K9xLzPL",
        "outputId": "e0c97dc1-87c2-4251-9d00-b3a1dadee6ee"
      },
      "execution_count": null,
      "outputs": [
        {
          "output_type": "stream",
          "name": "stderr",
          "text": [
            "<ipython-input-120-9f15eafb858c>:2: FutureWarning: The frame.append method is deprecated and will be removed from pandas in a future version. Use pandas.concat instead.\n",
            "  eval_df = eval_df.append({'Algorithm': 'C4.5',\n"
          ]
        }
      ]
    },
    {
      "cell_type": "code",
      "source": [
        "# Mencari nilai F1 Score terbesar dan identifikasi algoritma yang memberikan kinerja terbaik\n",
        "best_algorithm = eval_df.loc[eval_df['F1 Score'].idxmax()]['Algorithm']\n",
        "eval_df\n",
        "print(\"Best algorithm: \", best_algorithm)"
      ],
      "metadata": {
        "colab": {
          "base_uri": "https://localhost:8080/"
        },
        "id": "R5azEzjoL4H5",
        "outputId": "7b16b689-27df-4801-cfdc-420785ab0362"
      },
      "execution_count": null,
      "outputs": [
        {
          "output_type": "stream",
          "name": "stdout",
          "text": [
            "Best algorithm:  Naive Bayes\n"
          ]
        }
      ]
    },
    {
      "cell_type": "markdown",
      "source": [
        "#**Deployment**"
      ],
      "metadata": {
        "id": "L3nk53_acDvb"
      }
    },
    {
      "cell_type": "code",
      "source": [
        "import seaborn as sns\n",
        "\n",
        "# Mengambil probabilitas fitur berdasarkan kelas target\n",
        "feature_importance = pd.DataFrame(data=np.exp(nb.theta_), columns=X_train.columns, index=class_labels)\n",
        "\n",
        "# Membuat heatmap untuk probabilitas fitur\n",
        "plt.figure(figsize=(10, 6))\n",
        "sns.set_style(\"white\")\n",
        "sns.heatmap(feature_importance, annot=True, cmap='YlGnBu', fmt=\".2f\", cbar=False)\n",
        "plt.title('Probabilitas Fitur Berdasarkan Kelas Target', fontsize=16)\n",
        "plt.xlabel('Fitur', fontsize=12)\n",
        "plt.ylabel('Kelas', fontsize=12)\n",
        "plt.xticks(fontsize=10)\n",
        "plt.yticks(fontsize=10)\n",
        "plt.gca().spines['top'].set_visible(True)\n",
        "plt.gca().spines['right'].set_visible(True)\n",
        "for _, spine in plt.gca().spines.items():\n",
        "    spine.set_visible(True)\n",
        "\n",
        "plt.show()"
      ],
      "metadata": {
        "colab": {
          "base_uri": "https://localhost:8080/",
          "height": 738
        },
        "id": "KkfVhNRRgcMK",
        "outputId": "a49ec8a9-f2c1-45a6-d5ce-a1b1243a7698"
      },
      "execution_count": null,
      "outputs": [
        {
          "output_type": "display_data",
          "data": {
            "text/plain": [
              "<Figure size 1000x600 with 1 Axes>"
            ],
            "image/png": "[encoded data removed]"
          },
          "metadata": {}
        }
      ]
    },
    {
      "cell_type": "markdown",
      "source": [
        "## Link Google Studio\n",
        "https://lookerstudio.google.com/reporting/bed4fce1-67c2-410b-8265-b2cbab897fcd"
      ],
      "metadata": {
        "id": "GJt6BvrQcSu1"
      }
    },
    {
      "cell_type": "markdown",
      "source": [
        "## Link Power Point\n",
        "https://www.canva.com/design/DAFhW0Yasgw/xZb8LaWsdAeYwrqXAMJDnQ/edit?utm_content=DAFhW0Yasgw&utm_campaign=designshare&utm_medium=link2&utm_source=sharebutton"
      ],
      "metadata": {
        "id": "7iKvKPaMcXNV"
      }
    }
  ]
}